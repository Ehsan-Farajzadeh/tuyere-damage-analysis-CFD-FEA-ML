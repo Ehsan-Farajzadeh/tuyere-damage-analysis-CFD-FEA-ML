⚠️ Note: Data files are not included in this repository to protect unpublished work. 
To reproduce results, place your `.csv` files (e.g., `RCOG_125.csv`) in the same directory.




{
 "cells": [
  {
   "cell_type": "markdown",
   "metadata": {},
   "source": [
    "# Tuyere Thermal Stress ML Analysis\n",
    "This notebook demonstrates how to use machine learning tools for analyzing tuyere thermal stress using feature importance and correlation heatmaps."
   ]
  },
  {
   "cell_type": "code",
   "execution_count": null,
   "metadata": {},
   "outputs": [],
   "source": [
    "import pandas as pd\n",
    "import seaborn as sns\n",
    "import matplotlib.pyplot as plt\n",
    "import xgboost as xgb\n",
    "import os\n",
    "from sklearn.model_selection import train_test_split\n",
    "from sklearn.metrics import mean_squared_error"
   ]
  },
  {
   "cell_type": "markdown",
   "metadata": {},
   "source": [
    "## Load and analyze a sample dataset"
   ]
  },
  {
   "cell_type": "code",
   "execution_count": null,
   "metadata": {},
   "outputs": [],
   "source": [
    "file_path = 'RCOG_125.csv'\n",
    "data = pd.read_csv(file_path)\n",
    "input_columns = ['CO', 'CO2', 'H2', 'H2O', 'Heat_of_Het', 'Het1', 'Het2', 'Het3',\n",
    "                 'N2', 'O2', 'RR2', 'RR3', 'Static_Enth', 'Velocity']\n",
    "data[input_columns] = data[input_columns].apply(pd.to_numeric, errors='coerce')\n",
    "data = data.dropna()"
   ]
  },
  {
   "cell_type": "code",
   "execution_count": null,
   "metadata": {},
   "outputs": [],
   "source": [
    "X = data[input_columns]\n",
    "y_stress = data['Stress']\n",
    "X_train, X_test, y_train, y_test = train_test_split(X, y_stress, test_size=0.2, random_state=42)\n",
    "model = xgb.XGBRegressor(objective='reg:squarederror', random_state=42)\n",
    "model.fit(X_train, y_train)\n",
    "preds = model.predict(X_test)\n",
    "mse = mean_squared_error(y_test, preds)\n",
    "print(f'Mean Squared Error: {mse:.2f}')"
   ]
  },
  {
   "cell_type": "markdown",
   "metadata": {},
   "source": [
    "## Plot feature importance"
   ]
  },
  {
   "cell_type": "code",
   "execution_count": null,
   "metadata": {},
   "outputs": [],
   "source": [
    "xgb.plot_importance(model)\n",
    "plt.title('Feature Importance for Stress Prediction')\n",
    "plt.tight_layout()\n",
    "plt.show()"
   ]
  },
  {
   "cell_type": "markdown",
   "metadata": {},
   "source": [
    "## Correlation Heatmap (Stress > 1000 MPa)"
   ]
  },
  {
   "cell_type": "code",
   "execution_count": null,
   "metadata": {},
   "outputs": [],
   "source": [
    "filtered_df = data[data['Stress'] > 1000].drop(columns=['X', 'Y', 'Z', 'Strain'], errors='ignore')\n",
    "corr = filtered_df.corr()\n",
    "plt.figure(figsize=(12, 10))\n",
    "sns.heatmap(corr, annot=True, cmap='coolwarm', vmin=-1, vmax=1)\n",
    "plt.title('Correlation Matrix for Stress > 1000 MPa')\n",
    "plt.tight_layout()\n",
    "plt.show()"
   ]
  }
 ],
 "metadata": {
  "kernelspec": {
   "display_name": "Python 3",
   "language": "python",
   "name": "python3"
  },
  "language_info": {
   "name": "python",
   "version": "3.9"
  }
 },
 "nbformat": 4,
 "nbformat_minor": 5
}
